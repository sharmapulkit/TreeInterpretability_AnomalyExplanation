{
 "cells": [
  {
   "cell_type": "code",
   "execution_count": 77,
   "metadata": {},
   "outputs": [],
   "source": [
    "# Set overlap utility function\n",
    "import numpy as np\n",
    "import pandas as pd\n",
    "import rbo\n",
    "import matplotlib.pyplot as plt \n",
    "\n",
    "def print_set_overlap(ranking1, treatment_vars, k, nTreatment):\n",
    "    \"\"\"\n",
    "    Provide the correlation analysis of top-k features from the following two:\n",
    "    1. ranking1: List of ranking provided by the ranking method, \n",
    "    2. treatment_vars: list of set of treatment variables. Each set contains the treatment variables that are \n",
    "    changing for that datapoint.\n",
    "    size of 1&2 = number of data points each element is a ranking of features\n",
    "            \n",
    "    returns pd.Series(rank based overlap)\n",
    "    Prints the Series analysis of rank correlation values between both the rankings\n",
    "    (Mean, std, Min, 25%, 50%, 75%, Max, Histogram)\n",
    "    \"\"\"\n",
    "    overlap_values = []\n",
    "    idx_arr = np.arange(len(ranking1))\n",
    "    for r1, r2 in zip(ranking1, treatment_vars):\n",
    "        if nTreatment == len(r2):\n",
    "            # Sorting the rankings in descending order of the absolute attribution values.\n",
    "            contributions = set([attr_value[1] for attr_value in \n",
    "                            sorted(zip(r1, idx_arr), key=lambda temp: -abs(temp[0]))][:k])\n",
    "\n",
    "            overlap_len = len(contributions.intersection(r2))\n",
    "            if(len(r2)==0):\n",
    "                overlap = 1\n",
    "            else:\n",
    "                overlap = overlap_len/len(r2)\n",
    "\n",
    "            overlap_values.append(overlap)\n",
    "    \n",
    "    return pd.Series(overlap_values) \n",
    "\n",
    "def calculate_accuracy(SHAPminusBaseline, TIminusBaseline, data_x, Baseline_x,k, nTreatment):\n",
    "    treatment_vars = [10,11,12]\n",
    "    treatment_vars_data = [4,5,6]\n",
    "    SHAPminusBaseline_df = pd.read_csv(SHAPminusBaseline,header=None,sep=',')\n",
    "    TIminusBaseline_df = pd.read_csv(TIminusBaseline,header=None,sep=',')\n",
    "    \n",
    "    \n",
    "    SHAPminusBaseline_df = SHAPminusBaseline_df.drop(0,1)\n",
    "    SHAPminusBaseline_df = SHAPminusBaseline_df.drop(0,0)\n",
    "    SHAPminusBaseline_df.columns = range(0,13)\n",
    "    SHAPminusBaseline_df = SHAPminusBaseline_df.convert_objects(convert_numeric=True)\n",
    "\n",
    "\n",
    "    TIminusBaseline_df = TIminusBaseline_df.drop(0,1)\n",
    "    TIminusBaseline_df = TIminusBaseline_df.drop(0,0)\n",
    "    TIminusBaseline_df.columns = range(0,13)\n",
    "    TIminusBaseline_df = TIminusBaseline_df.convert_objects(convert_numeric=True)\n",
    "\n",
    "    \n",
    "    \n",
    "    data_x_df = pd.read_csv(data_x)\n",
    "    Baseline_x_arr = np.array(pd.read_csv(Baseline_x,header=None)[0].tolist())\n",
    "    \n",
    "    # Getting just the treatment values from the x variables\n",
    "    data_x_df_treatment = data_x_df.iloc[:,treatment_vars_data]\n",
    "    data_x_df_treatment.columns = treatment_vars\n",
    "    \n",
    "    # Contains false if the treatment variable is not the same as the baseline\n",
    "    treatment_df = (Baseline_x_arr[treatment_vars].astype(int) == data_x_df_treatment) \n",
    "    \n",
    "    aList = []\n",
    "    for _,row in treatment_df.iterrows():\n",
    "        \n",
    "        treated = set()\n",
    "        for col in treatment_df:\n",
    "            if row[col]==False:\n",
    "                treated.add(col)\n",
    "        aList.append(treated)\n",
    "        \n",
    "    SHAP_series = print_set_overlap(SHAPminusBaseline_df.to_numpy(),aList,k,nTreatment)\n",
    "    TI_series = print_set_overlap(TIminusBaseline_df.to_numpy(),aList,k,nTreatment)\n",
    "    return (SHAP_series,TI_series)"
   ]
  },
  {
   "cell_type": "code",
   "execution_count": 78,
   "metadata": {},
   "outputs": [],
   "source": [
    "# LOOP OVER ALL IMAGES!\n",
    "import glob\n",
    "import os\n",
    "import re\n",
    "\n",
    "\n",
    "def accuracy_all_files(top_n):\n",
    "#     top_n: Calculate accuracy for top_n number of attributes accounted for by the model\n",
    "    garage_diff = \"./diffInterpretations_templates_randomBaseline/\"\n",
    "    garage_data = \"./Test_subset/\"\n",
    "    SHAPminusBaseline_files = glob.glob(garage_diff + \"*SHAP_outs*test*\")\n",
    "    TIminusBaseline_files = glob.glob(garage_diff + \"TI*test*\")\n",
    "    Baseline_files = glob.glob(garage_diff + \"*SHAP_baseline*test*\")\n",
    "\n",
    "    SHAPminusBaseline_file = SHAPminusBaseline_files[1]\n",
    "    set_overlap_list_SHAP = []\n",
    "    set_overlap_list_TI = []\n",
    "    for Baseline_file in Baseline_files:\n",
    "        # SHAP\n",
    "        SHAPminusBaseline_file = re.sub(\"_baseline_*\\d+\", \"\", Baseline_file)\n",
    "        # TI\n",
    "        TIminusBaseline_file = garage_diff + os.path.basename(SHAPminusBaseline_file).replace(\"SHAP\", \"TI\")\n",
    "        # Data\n",
    "        testData_x = garage_data + \"covComb\" + os.path.basename(SHAPminusBaseline_file).strip(\"diffInterpreted_SHAP_outs_mb\").strip(\"_test.txt\") + \"_test.csv\"\n",
    "\n",
    "        SHAP_current_set_overlap, TI_current_set_overlap = calculate_accuracy(SHAPminusBaseline_file, TIminusBaseline_file,testData_x,Baseline_file,3,top_n)\n",
    "\n",
    "        set_overlap_list_SHAP.extend(SHAP_current_set_overlap)\n",
    "        set_overlap_list_TI.extend(TI_current_set_overlap) \n",
    "    return set_overlap_list_SHAP,set_overlap_list_TI"
   ]
  },
  {
   "cell_type": "code",
   "execution_count": 79,
   "metadata": {},
   "outputs": [],
   "source": [
    "def plot_fn(set_overlap_list_SHAP,set_overlap_list_TI):\n",
    "    print(\"SHAP describe: \",pd.Series(set_overlap_list_SHAP).describe())\n",
    "    print(\"Median: \",pd.Series(set_overlap_list_SHAP).median())\n",
    "    plt.hist(set_overlap_list_SHAP)\n",
    "    plt.xlabel(\"Set overlap SHAP\")\n",
    "    plt.ylabel(\"Number of datapoints\")\n",
    "    plt.show()\n",
    "\n",
    "\n",
    "\n",
    "    print(\"TI describe: \",pd.Series(set_overlap_list_TI).describe())\n",
    "    print(\"Median: \",pd.Series(set_overlap_list_TI).median())\n",
    "\n",
    "    plt.hist(set_overlap_list_TI)\n",
    "    plt.xlabel(\"Set overlap TI\")\n",
    "    plt.ylabel(\"Number of datapoints\")\n",
    "    plt.show()"
   ]
  },
  {
   "cell_type": "code",
   "execution_count": 80,
   "metadata": {},
   "outputs": [
    {
     "name": "stderr",
     "output_type": "stream",
     "text": [
      "/Users/testaccount/anaconda3/lib/python3.7/site-packages/ipykernel_launcher.py:49: FutureWarning: convert_objects is deprecated.  To re-infer data dtypes for object columns, use DataFrame.infer_objects()\n",
      "For all other conversions use the data-type specific converters pd.to_datetime, pd.to_timedelta and pd.to_numeric.\n",
      "/Users/testaccount/anaconda3/lib/python3.7/site-packages/ipykernel_launcher.py:55: FutureWarning: convert_objects is deprecated.  To re-infer data dtypes for object columns, use DataFrame.infer_objects()\n",
      "For all other conversions use the data-type specific converters pd.to_datetime, pd.to_timedelta and pd.to_numeric.\n"
     ]
    },
    {
     "name": "stdout",
     "output_type": "stream",
     "text": [
      "SHAP describe:  count    4794.000000\n",
      "mean        0.722570\n",
      "std         0.447777\n",
      "min         0.000000\n",
      "25%         0.000000\n",
      "50%         1.000000\n",
      "75%         1.000000\n",
      "max         1.000000\n",
      "dtype: float64\n",
      "Median:  1.0\n"
     ]
    },
    {
     "data": {
      "image/png": "[encoded data removed]",
      "text/plain": [
       "<Figure size 432x288 with 1 Axes>"
      ]
     },
     "metadata": {
      "needs_background": "light"
     },
     "output_type": "display_data"
    },
    {
     "name": "stdout",
     "output_type": "stream",
     "text": [
      "TI describe:  count    4794.000000\n",
      "mean        0.783479\n",
      "std         0.411916\n",
      "min         0.000000\n",
      "25%         1.000000\n",
      "50%         1.000000\n",
      "75%         1.000000\n",
      "max         1.000000\n",
      "dtype: float64\n",
      "Median:  1.0\n"
     ]
    },
    {
     "data": {
      "image/png": "[encoded data removed]",
      "text/plain": [
       "<Figure size 432x288 with 1 Axes>"
      ]
     },
     "metadata": {
      "needs_background": "light"
     },
     "output_type": "display_data"
    }
   ],
   "source": [
    "set_overlap_list_SHAP, set_overlap_list_TI = accuracy_all_files(1)\n",
    "plot_fn(set_overlap_list_SHAP, set_overlap_list_TI)"
   ]
  },
  {
   "cell_type": "code",
   "execution_count": 81,
   "metadata": {},
   "outputs": [
    {
     "name": "stderr",
     "output_type": "stream",
     "text": [
      "/Users/testaccount/anaconda3/lib/python3.7/site-packages/ipykernel_launcher.py:49: FutureWarning: convert_objects is deprecated.  To re-infer data dtypes for object columns, use DataFrame.infer_objects()\n",
      "For all other conversions use the data-type specific converters pd.to_datetime, pd.to_timedelta and pd.to_numeric.\n",
      "/Users/testaccount/anaconda3/lib/python3.7/site-packages/ipykernel_launcher.py:55: FutureWarning: convert_objects is deprecated.  To re-infer data dtypes for object columns, use DataFrame.infer_objects()\n",
      "For all other conversions use the data-type specific converters pd.to_datetime, pd.to_timedelta and pd.to_numeric.\n"
     ]
    },
    {
     "name": "stdout",
     "output_type": "stream",
     "text": [
      "SHAP describe:  count    10538.000000\n",
      "mean         0.467783\n",
      "std          0.252220\n",
      "min          0.000000\n",
      "25%          0.500000\n",
      "50%          0.500000\n",
      "75%          0.500000\n",
      "max          1.000000\n",
      "dtype: float64\n",
      "Median:  0.5\n"
     ]
    },
    {
     "data": {
      "image/png": "[encoded data removed]",
      "text/plain": [
       "<Figure size 432x288 with 1 Axes>"
      ]
     },
     "metadata": {
      "needs_background": "light"
     },
     "output_type": "display_data"
    },
    {
     "name": "stdout",
     "output_type": "stream",
     "text": [
      "TI describe:  count    10538.000000\n",
      "mean         0.552524\n",
      "std          0.301947\n",
      "min          0.000000\n",
      "25%          0.500000\n",
      "50%          0.500000\n",
      "75%          0.500000\n",
      "max          1.000000\n",
      "dtype: float64\n",
      "Median:  0.5\n"
     ]
    },
    {
     "data": {
      "image/png": "[encoded data removed]",
      "text/plain": [
       "<Figure size 432x288 with 1 Axes>"
      ]
     },
     "metadata": {
      "needs_background": "light"
     },
     "output_type": "display_data"
    }
   ],
   "source": [
    "set_overlap_list_SHAP, set_overlap_list_TI = accuracy_all_files(2)\n",
    "plot_fn(set_overlap_list_SHAP, set_overlap_list_TI)"
   ]
  },
  {
   "cell_type": "code",
   "execution_count": 82,
   "metadata": {},
   "outputs": [
    {
     "name": "stderr",
     "output_type": "stream",
     "text": [
      "/Users/testaccount/anaconda3/lib/python3.7/site-packages/ipykernel_launcher.py:49: FutureWarning: convert_objects is deprecated.  To re-infer data dtypes for object columns, use DataFrame.infer_objects()\n",
      "For all other conversions use the data-type specific converters pd.to_datetime, pd.to_timedelta and pd.to_numeric.\n",
      "/Users/testaccount/anaconda3/lib/python3.7/site-packages/ipykernel_launcher.py:55: FutureWarning: convert_objects is deprecated.  To re-infer data dtypes for object columns, use DataFrame.infer_objects()\n",
      "For all other conversions use the data-type specific converters pd.to_datetime, pd.to_timedelta and pd.to_numeric.\n"
     ]
    },
    {
     "name": "stdout",
     "output_type": "stream",
     "text": [
      "SHAP describe:  count    5988.000000\n",
      "mean        0.355266\n",
      "std         0.159574\n",
      "min         0.000000\n",
      "25%         0.333333\n",
      "50%         0.333333\n",
      "75%         0.333333\n",
      "max         1.000000\n",
      "dtype: float64\n",
      "Median:  0.3333333333333333\n"
     ]
    },
    {
     "data": {
      "image/png": "[encoded data removed]",
      "text/plain": [
       "<Figure size 432x288 with 1 Axes>"
      ]
     },
     "metadata": {
      "needs_background": "light"
     },
     "output_type": "display_data"
    },
    {
     "name": "stdout",
     "output_type": "stream",
     "text": [
      "TI describe:  count    5988.000000\n",
      "mean        0.361835\n",
      "std         0.193630\n",
      "min         0.000000\n",
      "25%         0.333333\n",
      "50%         0.333333\n",
      "75%         0.333333\n",
      "max         1.000000\n",
      "dtype: float64\n",
      "Median:  0.3333333333333333\n"
     ]
    },
    {
     "data": {
      "image/png": "[encoded data removed]",
      "text/plain": [
       "<Figure size 432x288 with 1 Axes>"
      ]
     },
     "metadata": {
      "needs_background": "light"
     },
     "output_type": "display_data"
    }
   ],
   "source": [
    "set_overlap_list_SHAP, set_overlap_list_TI = accuracy_all_files(3)\n",
    "plot_fn(set_overlap_list_SHAP, set_overlap_list_TI)"
   ]
  }
 ],
 "metadata": {
  "kernelspec": {
   "display_name": "Python 3",
   "language": "python",
   "name": "python3"
  },
  "language_info": {
   "codemirror_mode": {
    "name": "ipython",
    "version": 3
   },
   "file_extension": ".py",
   "mimetype": "text/x-python",
   "name": "python",
   "nbconvert_exporter": "python",
   "pygments_lexer": "ipython3",
   "version": "3.7.3"
  }
 },
 "nbformat": 4,
 "nbformat_minor": 2
}
